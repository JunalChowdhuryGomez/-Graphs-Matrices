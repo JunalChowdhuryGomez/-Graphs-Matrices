{
  "nbformat": 4,
  "nbformat_minor": 0,
  "metadata": {
    "colab": {
      "provenance": []
    },
    "kernelspec": {
      "name": "python3",
      "display_name": "Python 3"
    },
    "language_info": {
      "name": "python"
    }
  },
  "cells": [
    {
      "cell_type": "markdown",
      "source": [
        "# ToolBox # 1: Graphs and Matrices"
      ],
      "metadata": {
        "id": "ks2139EiyYBv"
      }
    },
    {
      "cell_type": "code",
      "execution_count": 2,
      "metadata": {
        "id": "CwPNYe9dyS8n"
      },
      "outputs": [],
      "source": [
        "%matplotlib inline\n",
        "\n",
        "import matplotlib.pyplot as plt\n",
        "import numpy as np\n",
        "from math import *"
      ]
    },
    {
      "cell_type": "markdown",
      "source": [
        "## I. Matrices de adyacencia y caminos en grafos"
      ],
      "metadata": {
        "id": "Y9qdZ5aqnFu1"
      }
    },
    {
      "cell_type": "markdown",
      "source": [
        "### I.1. Definiciones (Revisión de CSE 102)"
      ],
      "metadata": {
        "id": "SQ5kcrwAnHbm"
      }
    },
    {
      "cell_type": "markdown",
      "source": [
        "A lo largo de este cuaderno, un grafo $ G $ de tamaño $ n \\geq 1 $ se da por $ (V, E) $ donde:\n",
        "\n",
        "- $ V = \\{ v_1, \\dots, v_n \\} $ es un conjunto finito de vértices;\n",
        "- $ E \\subset V^2 $ es un conjunto de aristas.\n"
      ],
      "metadata": {
        "id": "-3FirsgEp_IF"
      }
    },
    {
      "cell_type": "markdown",
      "source": [
        "La siguiente es una representación gráfica del grafo con:\n",
        "\n",
        "- $ V = \\{ v_1, v_2, v_3, v_4 \\}$\n",
        "- $ E = (v_1, v_2), (v_2, v_2), (v_2, v_3), (v_3, v_4), (v_4, v_4)$\n"
      ],
      "metadata": {
        "id": "IaTFZEcrqGn1"
      }
    },
    {
      "cell_type": "markdown",
      "source": [
        "![Graph_4vertices.jpg](data:image/jpeg;base64,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)"
      ],
      "metadata": {
        "id": "JwL4CYg41fqZ"
      }
    },
    {
      "cell_type": "markdown",
      "source": [
        "**Definición:** Sea $G = (V, E) $ un grafo de tamaño $ n $ La matriz de adyacencia $ A_G = (a_{i,j})_{1 \\leq i,  j \\leq n} $ asociada al grafo $ G $ es la matriz $ n \\times n $ definida por:\n"
      ],
      "metadata": {
        "id": "5h-A2-pyqITV"
      }
    },
    {
      "cell_type": "markdown",
      "source": [
        "$$a_{i,j} =\n",
        "\\begin{cases}\n",
        "1 & \\text{si la arista } (v_i, v_j) \\text{ está en } E, \\\\\n",
        "0 & \\text{en caso contrario}.\n",
        "\\end{cases}$$"
      ],
      "metadata": {
        "id": "kNBMybjqqKzF"
      }
    },
    {
      "cell_type": "markdown",
      "source": [
        "En el ejemplo anterior, la matriz de adyacencia \\( A_G \\) es:\n"
      ],
      "metadata": {
        "id": "Uh49LBdOqNJn"
      }
    },
    {
      "cell_type": "markdown",
      "source": [
        "$$A_G =\n",
        "\\begin{pmatrix}\n",
        "0 & 1 & 0 & 0 \\\\\n",
        "0 & 1 & 1 & 0 \\\\\n",
        "0 & 0 & 0 & 1 \\\\\n",
        "1 & 0 & 1 & 0 \\\\\n",
        "\\end{pmatrix}$$"
      ],
      "metadata": {
        "id": "YynIfnyYqO1H"
      }
    },
    {
      "cell_type": "markdown",
      "source": [
        "### I.2. Potencias de la matriz de adyacencia"
      ],
      "metadata": {
        "id": "1ZLEdehrqU4V"
      }
    },
    {
      "cell_type": "markdown",
      "source": [
        "Usaremos continuamente la siguiente propiedad, ya que es la que hace relevante la introducción de las matrices de adyacencia.\n"
      ],
      "metadata": {
        "id": "4irP6nVCrl1G"
      }
    },
    {
      "cell_type": "markdown",
      "source": [
        "**Proposición 1:** Sea $ G = (V, E) $ un grafo de tamaño $ n \\geq 1 $ y $ A_G $ su matriz de transición. Para $ 1 \\leq i, j \\leq n $ y $ k \\geq 1 $, denotamos por $ (A^k_G)_{i,j} $ el coeficiente $ (i,j) $ en $ A^k_G $ Entonces,\n"
      ],
      "metadata": {
        "id": "ckCkxl-Vrn1G"
      }
    },
    {
      "cell_type": "markdown",
      "source": [
        "$$(A^k_G)_{i,j} = \\text{Número de caminos de longitud } k \\text{ desde } v_i \\text{ hasta } v_j \\text{ en } G.$$"
      ],
      "metadata": {
        "id": "ylIlrr1Orph2"
      }
    },
    {
      "cell_type": "markdown",
      "source": [
        "**Demostración de la Proposición 1:**"
      ],
      "metadata": {
        "id": "VSKJvLU1r-Fv"
      }
    },
    {
      "cell_type": "markdown",
      "source": [
        "Hacemos la demostración en el caso $ k = 2 $, el caso general sigue por inducción. Escribimos $ A_G = (a_{i,j})_{1 \\leq i,j \\leq n} $. Entonces, por la definición del producto de matrices:\n"
      ],
      "metadata": {
        "id": "4Gl31Vftr_Gf"
      }
    },
    {
      "cell_type": "markdown",
      "source": [
        "\n",
        "$$\n",
        "(A^2_G)_{i,j} = a_{i,1} a_{1,j} + a_{i,2} a_{2,j} + \\dots + a_{i,n} a_{n,j}.\n",
        "$$"
      ],
      "metadata": {
        "id": "kLsjyJEBsAj-"
      }
    },
    {
      "cell_type": "markdown",
      "source": [
        "Consideremos un término $ a_{i,\\ell} a_{\\ell,j} $ en la suma anterior. Este término es cero a menos que $ a_{i,\\ell} = a_{\\ell,j} = 1 $. Esto significa que existe un camino de longitud dos $ v_i \\to v_\\ell \\to v_j $. Es decir,\n"
      ],
      "metadata": {
        "id": "Vd-8rl4FsCsu"
      }
    },
    {
      "cell_type": "markdown",
      "source": [
        "$$\n",
        "a_{i,\\ell} a_{\\ell,j} =\n",
        "\\begin{cases}\n",
        "1 & \\text{si existe un camino de longitud 2 desde } v_i \\text{ hasta } v_j, \\text{ pasando por } v_\\ell, \\\\\n",
        "0 & \\text{en caso contrario}.\n",
        "\\end{cases}\n",
        "$$"
      ],
      "metadata": {
        "id": "bycPQqq9sEDf"
      }
    },
    {
      "cell_type": "markdown",
      "source": [
        "Sumando sobre $ \\ell $, obtenemos la proposición en el caso $ k = 2 $.\n"
      ],
      "metadata": {
        "id": "dILVaMlfsEw4"
      }
    },
    {
      "cell_type": "markdown",
      "source": [
        "Fin de la demostración."
      ],
      "metadata": {
        "id": "OcymqfOpsGXG"
      }
    },
    {
      "cell_type": "markdown",
      "source": [
        "### Aplicacion Numerica"
      ],
      "metadata": {
        "id": "4-iAXIoisKMm"
      }
    },
    {
      "cell_type": "code",
      "source": [
        "# Running example\n",
        "\n",
        "A=np.matrix([[0, 1, 0, 0],\n",
        " [0, 1, 1, 0],\n",
        " [0, 0, 0, 1],\n",
        " [1, 0, 1, 0]])\n",
        "\n",
        "print(\"A_G:\")\n",
        "print(A)\n",
        "\n",
        "print('-----')\n",
        "k=20\n",
        "print(\"A_G to the power k =\",k,':')\n",
        "A_to_power_k = A**k\n",
        "print(A_to_power_k)\n",
        "\n",
        "print('-----')\n",
        "print('There are ',int(A_to_power_k[0,3]), 'paths of length ',k,' from v_1 to v_4')"
      ],
      "metadata": {
        "colab": {
          "base_uri": "https://localhost:8080/"
        },
        "id": "H4dyS09-sQKe",
        "outputId": "8a720198-6e41-4662-b4b2-4706e6849f66"
      },
      "execution_count": 3,
      "outputs": [
        {
          "output_type": "stream",
          "name": "stdout",
          "text": [
            "A_G:\n",
            "[[0 1 0 0]\n",
            " [0 1 1 0]\n",
            " [0 0 0 1]\n",
            " [1 0 1 0]]\n",
            "-----\n",
            "A_G to the power k = 20 :\n",
            "[[ 529 1024 1208  792]\n",
            " [ 792 1553 1816 1208]\n",
            " [ 416  792  945  608]\n",
            " [ 608 1208 1400  945]]\n",
            "-----\n",
            "There are  792 paths of length  20  from v_1 to v_4\n"
          ]
        }
      ]
    },
    {
      "cell_type": "markdown",
      "source": [
        "### I.3. (Bonus) Aplicación a la asintótica: un vistazo a la teoría de Perron-Frobenius.\n"
      ],
      "metadata": {
        "id": "l8l5yGIzsjjG"
      }
    },
    {
      "cell_type": "markdown",
      "source": [
        "Sea $ v_i, v_j $ dos vértices de un grafo $ G $. Queremos estimar, para grandes $ k $, el número de caminos de longitud $ k $ desde $v_i$ hasta $ v_j $. Gracias a la Proposición 1, esta pregunta se reduce a estimar $(A^k_G)_{i,j}$.\n"
      ],
      "metadata": {
        "id": "gbscN_TPsmve"
      }
    },
    {
      "cell_type": "markdown",
      "source": [
        "En la siguiente proposición mostramos que la asintótica está determinada por el valor propio más grande de $A_G$.\n"
      ],
      "metadata": {
        "id": "7wrg6bLjsoT-"
      }
    },
    {
      "cell_type": "markdown",
      "source": [
        "**Proposición 2 (Versión simplificada del teorema de Perron-Frobenius):**  \n",
        "Sea $ G = (V, E) $ un grafo de tamaño $ n \\geq 1 $ y $ A_G $ su matriz de transición. Supongamos que $ A_G $ es diagonalizable con $ n $ valores propios reales o complejos $ \\lambda_1, \\lambda_2, \\dots, \\lambda_n $. Supongamos además que para todo $ 2 \\leq \\ell \\leq n $, se cumple que $ \\lambda_1 > |\\lambda_\\ell| $.\n"
      ],
      "metadata": {
        "id": "cdOcHeaLspPu"
      }
    },
    {
      "cell_type": "markdown",
      "source": [
        "Entonces, para cada $ i, j $, existe una constante $ c_{i,j} \\geq 0 $ tal que, cuando $ k \\to +\\infty $,\n"
      ],
      "metadata": {
        "id": "kZMFcfpdsrTG"
      }
    },
    {
      "cell_type": "markdown",
      "source": [
        "$$\n",
        "\\text{Número de caminos de longitud } k \\text{ desde } v_i \\text{ hasta } v_j \\text{ en } G = c_{i,j} \\lambda_1^k + o(\\lambda_1^k).\n",
        "$$"
      ],
      "metadata": {
        "id": "F9zoaAdDssh2"
      }
    },
    {
      "cell_type": "markdown",
      "source": [
        "(En particular, esto implica que $\\lambda_1$ es real.)"
      ],
      "metadata": {
        "id": "gbkZVLzjstqO"
      }
    },
    {
      "cell_type": "markdown",
      "source": [
        "### Demostración de la Proposición 2\n"
      ],
      "metadata": {
        "id": "tWCAiXeps7Yk"
      }
    },
    {
      "cell_type": "markdown",
      "source": [
        "Necesitamos estimar el coeficiente $ (i,j)$ en $ A^k_G$. Procedemos a diagonalizar $ A_G $:\n"
      ],
      "metadata": {
        "id": "pppCbvPWs_P-"
      }
    },
    {
      "cell_type": "markdown",
      "source": [
        "$$\n",
        "A_G = P \\times\n",
        "\\begin{pmatrix}\n",
        "\\lambda_1 & 0 & 0 & \\dots \\\\\n",
        "0 & \\lambda_2 & 0 & \\dots \\\\\n",
        "0 & 0 & \\lambda_3 & \\dots \\\\\n",
        "\\vdots & \\vdots & \\vdots & \\ddots\n",
        "\\end{pmatrix} \\times Q\n",
        "$$"
      ],
      "metadata": {
        "id": "9Y9q-UwFtAnt"
      }
    },
    {
      "cell_type": "markdown",
      "source": [
        "donde $ Q = P^{-1} $. Escribimos $ P = (p_{i,j}) $ y $ Q = (q_{i,j}) $. (Recordemos que $ (p_{i,\\ell})_i $ es un vector propio de $ \\lambda_\\ell $.)\n"
      ],
      "metadata": {
        "id": "BWcgcYKftDH9"
      }
    },
    {
      "cell_type": "markdown",
      "source": [
        "Para cada $k$:\n"
      ],
      "metadata": {
        "id": "KXs-aIYutERe"
      }
    },
    {
      "cell_type": "markdown",
      "source": [
        "$$\n",
        "A^k_G = P \\times\n",
        "\\begin{pmatrix}\n",
        "\\lambda_1^k & 0 & 0 & \\dots \\\\\n",
        "0 & \\lambda_2^k & 0 & \\dots \\\\\n",
        "0 & 0 & \\lambda_3^k & \\dots \\\\\n",
        "\\vdots & \\vdots & \\vdots & \\ddots\n",
        "\\end{pmatrix} \\times Q\n",
        "= P \\times\n",
        "\\begin{pmatrix}\n",
        "\\lambda_1^k q_{1,j} \\\\\n",
        "\\lambda_2^k q_{2,j} \\\\\n",
        "\\lambda_3^k q_{3,j} \\\\\n",
        "\\vdots\n",
        "\\end{pmatrix}\n",
        "=\n",
        "\\begin{pmatrix}\n",
        "\\sum_{\\ell} p_{i,\\ell} q_{\\ell,j} \\lambda_\\ell^k\n",
        "\\end{pmatrix}_{i,j}\n",
        "$$\n"
      ],
      "metadata": {
        "id": "aXNXCO6BtFz3"
      }
    },
    {
      "cell_type": "markdown",
      "source": [
        "Entonces,"
      ],
      "metadata": {
        "id": "tlIknHSXtHgF"
      }
    },
    {
      "cell_type": "markdown",
      "source": [
        "$$\n",
        "(A^k_G)_{i,j} = \\sum_{\\ell=1}^{n} p_{i,\\ell} q_{\\ell,j} \\lambda_\\ell^k = p_{i,1} q_{1,j} \\lambda_1^k + \\sum_{\\ell=2}^{n} p_{i,\\ell} q_{\\ell,j} \\lambda_\\ell^k\n",
        "$$"
      ],
      "metadata": {
        "id": "X5O-EMk3tIpt"
      }
    },
    {
      "cell_type": "markdown",
      "source": [
        "Esto se puede escribir como:\n"
      ],
      "metadata": {
        "id": "-GfSW8hBtJ1l"
      }
    },
    {
      "cell_type": "markdown",
      "source": [
        "$$\n",
        "(A^k_G)_{i,j} = p_{i,1} q_{1,j} \\lambda_1^k + o(\\lambda_1^k)\n",
        "$$"
      ],
      "metadata": {
        "id": "8nEjQGNjtKS-"
      }
    },
    {
      "cell_type": "markdown",
      "source": [
        "dado que $ |\\lambda_2|, \\dots, |\\lambda_n| $ son menores que $\\lambda_1$. Así, hemos demostrado la proposición, con $ c_{i,j} = p_{i,1} q_{1,j} $.\n"
      ],
      "metadata": {
        "id": "z5fstVbRtLh-"
      }
    },
    {
      "cell_type": "markdown",
      "source": [
        "**Fin de la Proposición 2.**\n"
      ],
      "metadata": {
        "id": "kNa4NKY_tN9G"
      }
    },
    {
      "cell_type": "markdown",
      "source": [
        "Queremos aplicar la Proposición 2 a nuestro ejemplo en curso. Con el siguiente script, calculamos los valores propios de $ A $."
      ],
      "metadata": {
        "id": "bBBL_n5HtOc-"
      }
    },
    {
      "cell_type": "code",
      "source": [
        "# Running example\n",
        "\n",
        "Diagonalization=np.linalg.eig(A)\n",
        "\n",
        "Eigenvalues=Diagonalization[0] # Computes the eigenvalues of A\n",
        "Eigenvectors=Diagonalization[1] # Computes the passage matrix onto the basis of eigenvectors\n",
        "\n",
        "print('-------')\n",
        "print('The eigenvalues are:')\n",
        "print(np.round(Eigenvalues,5))\n",
        "print('In particular the largest one is')\n",
        "lambda_1=max(Eigenvalues)\n",
        "print(np.round(lambda_1,5))\n",
        "print('-------')\n",
        "real_parts = Eigenvalues.real\n",
        "imag_parts = Eigenvalues.imag\n",
        "\n",
        "# Plots of eigenvalues\n",
        "plt.figure(figsize=(8, 6))\n",
        "plt.scatter(real_parts, imag_parts, color='pink', marker='o', s=200)\n",
        "plt.axhline(0, color='black',linewidth=0.5)\n",
        "plt.axvline(0, color='black',linewidth=0.5)\n",
        "#plt.grid(color = 'gray', linestyle = '--', linewidth = 0.5)\n",
        "plt.title('Locations of eigenvalues')\n",
        "plt.xlabel('Real parts')\n",
        "plt.ylabel('Imaginary parts')\n",
        "plt.show()"
      ],
      "metadata": {
        "colab": {
          "base_uri": "https://localhost:8080/",
          "height": 668
        },
        "id": "YEyyn-r2tTNg",
        "outputId": "fe26f22a-19d3-4f43-ca10-87222782a49d"
      },
      "execution_count": 4,
      "outputs": [
        {
          "output_type": "stream",
          "name": "stdout",
          "text": [
            "-------\n",
            "The eigenvalues are:\n",
            "[-1.17872+0.j       0.33292+0.67077j  0.33292-0.67077j  1.51288+0.j     ]\n",
            "In particular the largest one is\n",
            "(1.51288+0j)\n",
            "-------\n"
          ]
        },
        {
          "output_type": "display_data",
          "data": {
            "text/plain": [
              "<Figure size 800x600 with 1 Axes>"
            ],
            "image/png": "[encoded data removed]"
          },
          "metadata": {}
        }
      ]
    },
    {
      "cell_type": "markdown",
      "source": [
        "Ahora graficamos el número de caminos de longitud $k$ desde $ v_1 $ hasta $ v_2 $, y lo comparamos con $ \\lambda_1^k $.\n"
      ],
      "metadata": {
        "id": "8D21HKuytSPH"
      }
    },
    {
      "cell_type": "code",
      "source": [
        "def Paths_from_vi_to_vj(i,j,k):\n",
        "    A_to_power_k = np.linalg.matrix_power(A,k)\n",
        "    return A_to_power_k[i-1,j-1]\n",
        "\n",
        "# We observe that lambda_1 = 1.5128... + 0 \\times i where i^2=-1. This is because lambda_1 is obtained\n",
        "# by numerical approximations. We take the real part in order to avoid this issue.\n",
        "lambda_1=np.real(lambda_1)\n",
        "\n",
        "KK=range(40)\n",
        "NumberOfPaths_v1_v2=[Paths_from_vi_to_vj(1,2,k) for k in KK]\n",
        "NumberOfPaths_v1_v3=[Paths_from_vi_to_vj(1,3,k) for k in KK]\n",
        "\n",
        "plt.title('Number of paths')\n",
        "plt.plot(KK,NumberOfPaths_v1_v2,'o-',label='Paths v_1 to v_2')\n",
        "plt.plot(KK,NumberOfPaths_v1_v3,'o-',label='Paths v_1 to v_3')\n",
        "plt.legend()\n",
        "plt.show()\n",
        "\n",
        "KK=range(40)\n",
        "NormalizedNumberOfPaths_v1_v2=[NumberOfPaths_v1_v2[k]/lambda_1**k for k in KK]\n",
        "NormalizedNumberOfPaths_v1_v3=[NumberOfPaths_v1_v3[k]/lambda_1**k for k in KK]\n",
        "\n",
        "plt.title('Number of paths divided by lambda_1**k')\n",
        "plt.plot(KK,NormalizedNumberOfPaths_v1_v2,'o-',label='Paths v_1 to v_2')\n",
        "plt.plot(KK,NormalizedNumberOfPaths_v1_v3,'o-',label='Paths v_1 to v_3')\n",
        "plt.legend()\n",
        "plt.show()"
      ],
      "metadata": {
        "colab": {
          "base_uri": "https://localhost:8080/",
          "height": 887
        },
        "id": "SD5VWkAftp5G",
        "outputId": "5cd77e2d-d4a1-4689-eef4-2d05aa04bbbd"
      },
      "execution_count": 9,
      "outputs": [
        {
          "output_type": "display_data",
          "data": {
            "text/plain": [
              "<Figure size 640x480 with 1 Axes>"
            ],
            "image/png": "[encoded data removed]"
          },
          "metadata": {}
        },
        {
          "output_type": "display_data",
          "data": {
            "text/plain": [
              "<Figure size 640x480 with 1 Axes>"
            ],
            "image/png": "[encoded data removed]"
          },
          "metadata": {}
        }
      ]
    },
    {
      "cell_type": "markdown",
      "source": [
        "#### Discusión sobre los gráficos anteriores"
      ],
      "metadata": {
        "id": "xmrHq8DVtt9g"
      }
    },
    {
      "cell_type": "markdown",
      "source": [
        "Los gráficos son consistentes con la Proposición 2: por ejemplo, el número de caminos $ v_1 \\to v_2 $ parece ser equivalente a $ c_{1,2} \\lambda_1^k $, donde (empíricamente) $ c_{1,2} \\approx 0.2600 $, mientras que el número de caminos $ v_1 \\to v_3 $ parece ser equivalente a $ c_{1,3} \\lambda_1^k $, con $ c_{1,3} \\approx 0.3051 $."
      ],
      "metadata": {
        "id": "fBtGeOpRty_O"
      }
    },
    {
      "cell_type": "markdown",
      "source": [
        "## II. Matrices de transición y grafos probabilísticos\n"
      ],
      "metadata": {
        "id": "omS8sK2at2uu"
      }
    },
    {
      "cell_type": "markdown",
      "source": [
        "### II.1. Definiciones\n"
      ],
      "metadata": {
        "id": "udHJ1q8tuGQ2"
      }
    },
    {
      "cell_type": "markdown",
      "source": [
        "**Definición:** Sea $ G $ un grafo con conjunto de vértices $ V = \\{ v_1, \\dots, v_n \\} $. Una matriz de transición $ P $ sobre $ V $ es una matriz $ n \\times n $ $ P = (p_{i,j})_{1 \\leq i,j \\leq n} $ tal que:\n"
      ],
      "metadata": {
        "id": "NsJ30ZHsuGz-"
      }
    },
    {
      "cell_type": "markdown",
      "source": [
        "- Cada coeficiente $ p_{i,j} $ está en el intervalo $ [0,1] $.\n",
        "- Para todo $ 1 \\leq i \\leq n $, se cumple que:\n"
      ],
      "metadata": {
        "id": "PsVCghMEuH0W"
      }
    },
    {
      "cell_type": "markdown",
      "source": [
        "$$\n",
        "\\sum_{j=1}^{n} p_{i,j} = 1.\n",
        "$$"
      ],
      "metadata": {
        "id": "DLfeZRF_uJOl"
      }
    },
    {
      "cell_type": "markdown",
      "source": [
        "Aquí hay un ejemplo de una matriz de transición sobre un conjunto $ \\{ v_1, \\dots, v_4 \\} $:\n"
      ],
      "metadata": {
        "id": "fqlRwkvuuKgA"
      }
    },
    {
      "cell_type": "markdown",
      "source": [
        "$$\n",
        "P =\n",
        "\\begin{pmatrix}\n",
        "\\frac{1}{4} & \\frac{1}{4} & \\frac{1}{2} & 0 \\\\\n",
        "\\frac{1}{2} & 0 & \\frac{1}{4} & \\frac{1}{4} \\\\\n",
        "0 & 0 & 1 & 0 \\\\\n",
        "0 & 0 & 0 & 1\n",
        "\\end{pmatrix}\n",
        "$$\n"
      ],
      "metadata": {
        "id": "BXijBOOGuMbf"
      }
    },
    {
      "cell_type": "markdown",
      "source": [
        "Es conveniente representar una matriz de transición como un grafo probabilístico: ponemos una arista $ v_i \\to v_j $ con peso $ p_{i,j} $. La matriz $ P $ anterior corresponde al siguiente grafo probabilístico:"
      ],
      "metadata": {
        "id": "aGgzvaHX3CYA"
      }
    },
    {
      "cell_type": "markdown",
      "source": [
        "![ProbabilisticGraph.jpg](data:image/jpeg;base64,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)"
      ],
      "metadata": {
        "id": "0As_tSQm3P_w"
      }
    },
    {
      "cell_type": "markdown",
      "source": [
        "\n",
        "\n",
        "Una matriz de transición se utiliza para modelar el proceso aleatorio de un individuo (que puede ser una partícula en un sistema físico, un agente en un modelo económico, una variable interna en un algoritmo estocástico, ...) sobre el conjunto $ V $. El coeficiente $ p_{i,j}$ se interpreta como la probabilidad de ir de $ v_i $ a $ v_j $ en exactamente un paso de tiempo.\n",
        "\n"
      ],
      "metadata": {
        "id": "TXSkTXlnuPMW"
      }
    },
    {
      "cell_type": "markdown",
      "source": [
        "El marco adecuado para tal modelo es el de las cadenas de Markov.\n"
      ],
      "metadata": {
        "id": "xj9AeO_W3L52"
      }
    },
    {
      "cell_type": "markdown",
      "source": [
        "**Definición:** Sea $ P $ una matriz de transición sobre algún conjunto de vértices $ V $ y sea $ v_{i_0} \\in V $ un vértice particular llamado punto de inicio. Una cadena de Markov $ (X_t)_{t \\in \\mathbb{N}} $ con matriz de transición $ P $ y punto de inicio $ v_{i_0} $ es una secuencia de variables aleatorias tal que:\n"
      ],
      "metadata": {
        "id": "6IM8r7LQuRX4"
      }
    },
    {
      "cell_type": "markdown",
      "source": [
        "- $ X_0 = v_{i_0}$.\n",
        "- Para todo $ t \\geq 1 $, para cualquier $ t $-tupla de vértices $ v_{i_1}, \\dots, v_{i_t} $, se cumple que:\n"
      ],
      "metadata": {
        "id": "a7RJjOIWuTEW"
      }
    },
    {
      "cell_type": "markdown",
      "source": [
        "$$\n",
        "P(X_1 = v_{i_1}, \\dots, X_t = v_{i_t}) = p_{i_0, i_1} \\times p_{i_1, i_2} \\times \\dots \\times p_{i_{t-1}, i_t}.\n",
        "$$"
      ],
      "metadata": {
        "id": "kcWxJW3tuUWe"
      }
    },
    {
      "cell_type": "markdown",
      "source": [
        "### II.2. Potencias de una matriz de transición"
      ],
      "metadata": {
        "id": "nu3wTLH6uWrG"
      }
    },
    {
      "cell_type": "markdown",
      "source": [
        "Las potencias sucesivas de una matriz de transición $P$ permiten calcular la distribución de una cadena de Markov en un tiempo dado.\n"
      ],
      "metadata": {
        "id": "JkDScBEoyASP"
      }
    },
    {
      "cell_type": "markdown",
      "source": [
        "#### Proposición 3"
      ],
      "metadata": {
        "id": "mqa5z6Qgya82"
      }
    },
    {
      "cell_type": "markdown",
      "source": [
        "Sea $(X_t)_{t \\in \\mathbb{N}}$ una cadena de Markov con matriz de transición $P$ sobre algún conjunto de vértices $\\{ v_1, \\dots, v_n \\}$. Denotemos por $v_{i_0}$ su punto de inicio. Entonces, para todo $t \\geq 1$ y para cualquier vértice $v_j$,\n"
      ],
      "metadata": {
        "id": "w45w4MOzydmz"
      }
    },
    {
      "cell_type": "markdown",
      "source": [
        "$$\n",
        "P(X_t = v_j) = (P^t)_{i_0, j}.\n",
        "$$"
      ],
      "metadata": {
        "id": "8CrZ58HFyfPz"
      }
    },
    {
      "cell_type": "markdown",
      "source": [
        "#### Demostración de la Proposición 3"
      ],
      "metadata": {
        "id": "Tr9C_DewyhI4"
      }
    },
    {
      "cell_type": "markdown",
      "source": [
        "Por la ley de probabilidades totales:\n"
      ],
      "metadata": {
        "id": "qUiwy7Pjyh9U"
      }
    },
    {
      "cell_type": "markdown",
      "source": [
        "$$\n",
        "P(X_t = v_j) = \\sum_{i_1, \\dots, i_{t-1} \\in V} P(X_1 = v_{i_1}, \\dots, X_{t-1} = v_{i_{t-1}}, X_t = v_j)\n",
        "$$"
      ],
      "metadata": {
        "id": "eZEYnsW6yjJc"
      }
    },
    {
      "cell_type": "markdown",
      "source": [
        "Esto se puede reescribir como:\n"
      ],
      "metadata": {
        "id": "erFq6RLBylJE"
      }
    },
    {
      "cell_type": "markdown",
      "source": [
        "$$\n",
        "P(X_t = v_j) = \\sum_{i_1, \\dots, i_{t-1} \\in V} p_{i_0, i_1} \\times p_{i_1, i_2} \\times \\dots \\times p_{i_{t-2}, i_{t-1}} \\times p_{i_{t-1}, j} = (P^t)_{i_0, j}.\n",
        "$$"
      ],
      "metadata": {
        "id": "vPO3bAuNymHF"
      }
    },
    {
      "cell_type": "markdown",
      "source": [
        "(Si la última igualdad no es clara, puedes intentar demostrarla por inducción sobre $t$.)\n"
      ],
      "metadata": {
        "id": "c7-F3SExynE7"
      }
    },
    {
      "cell_type": "markdown",
      "source": [
        "**Fin de la Proposición 3.**\n"
      ],
      "metadata": {
        "id": "pKeAv-OvyoIT"
      }
    },
    {
      "cell_type": "markdown",
      "source": [
        "#### Aplicación a nuestro ejemplo:"
      ],
      "metadata": {
        "id": "9woeE_qSypkT"
      }
    },
    {
      "cell_type": "code",
      "source": [
        "P=np.matrix([\n",
        "[1/4, 1/4, 1/2, 0],\n",
        "[1/2, 0  , 1/4, 1/4],\n",
        "[0,0,1,0],\n",
        "[0,0,0,1],\n",
        "])\n",
        "print('-----')\n",
        "print(\"P =\")\n",
        "print(P)\n",
        "\n",
        "print('-----')\n",
        "t=6\n",
        "print(\"P to the power \",t)\n",
        "P_to_power_t = np.linalg.matrix_power(P,t) # computes P**t\n",
        "print(np.round(P_to_power_t,4))\n",
        "print('-----')\n",
        "print('Asumme X_0=v_1. At time t =',t,' X_t is at position v_2 with probability ',np.round(P_to_power_t[0,1],4))\n"
      ],
      "metadata": {
        "colab": {
          "base_uri": "https://localhost:8080/"
        },
        "id": "iqXLf5M8yqab",
        "outputId": "8fe63aa4-d542-47d1-f927-0148aeeb8904"
      },
      "execution_count": 6,
      "outputs": [
        {
          "output_type": "stream",
          "name": "stdout",
          "text": [
            "-----\n",
            "P =\n",
            "[[0.25 0.25 0.5  0.  ]\n",
            " [0.5  0.   0.25 0.25]\n",
            " [0.   0.   1.   0.  ]\n",
            " [0.   0.   0.   1.  ]]\n",
            "-----\n",
            "P to the power  6\n",
            "[[0.0105 0.0051 0.887  0.0974]\n",
            " [0.0103 0.0054 0.687  0.2974]\n",
            " [0.     0.     1.     0.    ]\n",
            " [0.     0.     0.     1.    ]]\n",
            "-----\n",
            "Asumme X_0=v_1. At time t = 6  X_t is at position v_2 with probability  0.0051\n"
          ]
        }
      ]
    },
    {
      "cell_type": "markdown",
      "source": [
        "### II.3. Estados absorbentes: experimentos y teoría"
      ],
      "metadata": {
        "id": "z_7fVBC9zGSh"
      }
    },
    {
      "cell_type": "markdown",
      "source": [
        "Al observar el grafo probabilístico de nuestro ejemplo anterior, vemos que si la partícula llega a $v_3$, se queda en $v_3$ para siempre (lo mismo ocurre en $v_4$). Decimos que $v_3$ y $v_4$ son **estados absorbentes** para la cadena $(X_t)$.\n"
      ],
      "metadata": {
        "id": "rhSIEtsZzJP9"
      }
    },
    {
      "cell_type": "markdown",
      "source": [
        "La siguiente pregunta es natural: ¿cuál es la probabilidad de que, comenzando desde $v_1$, la cadena sea absorbida en $v_3$? ¿En $v_4$?\n"
      ],
      "metadata": {
        "id": "ZrsY0b9QzLGS"
      }
    },
    {
      "cell_type": "markdown",
      "source": [
        "Si calculamos $P^t$ para un valor grande de $t$ en nuestro ejemplo, obtenemos:"
      ],
      "metadata": {
        "id": "dHJ5PCKNzMNl"
      }
    },
    {
      "cell_type": "code",
      "source": [
        "print('-----')\n",
        "t=30\n",
        "print(\"P to the power \",t)\n",
        "P_to_power_t = np.linalg.matrix_power(P,t) # computes A**t\n",
        "print(np.round(P_to_power_t,4))\n",
        "print('-----')\n",
        "for starting_point in [0,1]:\n",
        "    for absorbing_state in [2,3]:\n",
        "        print('Asumme X_0=v_'+str(starting_point+1)+'. At time t ='+str(t)+' X_t is at position v_'+str(absorbing_state+1)+' with probability '+str(np.round(P_to_power_t[starting_point,absorbing_state],10)))"
      ],
      "metadata": {
        "colab": {
          "base_uri": "https://localhost:8080/"
        },
        "id": "3opExextzPk9",
        "outputId": "b1fc8dc7-bc91-4725-c350-533ca353c08b"
      },
      "execution_count": 7,
      "outputs": [
        {
          "output_type": "stream",
          "name": "stdout",
          "text": [
            "-----\n",
            "P to the power  30\n",
            "[[0.  0.  0.9 0.1]\n",
            " [0.  0.  0.7 0.3]\n",
            " [0.  0.  1.  0. ]\n",
            " [0.  0.  0.  1. ]]\n",
            "-----\n",
            "Asumme X_0=v_1. At time t =30 X_t is at position v_3 with probability 0.8999999992\n",
            "Asumme X_0=v_1. At time t =30 X_t is at position v_4 with probability 0.0999999998\n",
            "Asumme X_0=v_2. At time t =30 X_t is at position v_3 with probability 0.6999999992\n",
            "Asumme X_0=v_2. At time t =30 X_t is at position v_4 with probability 0.2999999998\n"
          ]
        }
      ]
    },
    {
      "cell_type": "markdown",
      "source": [
        "Esto sugiere que si el punto de inicio es $v_1$, entonces\n"
      ],
      "metadata": {
        "id": "gTVbaRmpzt7n"
      }
    },
    {
      "cell_type": "markdown",
      "source": [
        "$$\n",
        "P(\\text{la cadena es absorbida en } v_3) \\approx 0.9, \\quad P(\\text{la cadena es absorbida en } v_4) \\approx 0.1.\n",
        "$$"
      ],
      "metadata": {
        "id": "_V7uQFqPzuV2"
      }
    },
    {
      "cell_type": "markdown",
      "source": [
        "En esta sección no establecemos un resultado general, sino que explicamos en este ejemplo cómo calcular exactamente las probabilidades de absorción.\n"
      ],
      "metadata": {
        "id": "RlbvJRXezvno"
      }
    },
    {
      "cell_type": "markdown",
      "source": [
        "Para un estado arbitrario $v_i$ y un estado absorbente $a$, sea $\\alpha^a_{v_i}$ la probabilidad de que, comenzando en $v_i$, la cadena sea absorbida en $a$. Por supuesto,\n"
      ],
      "metadata": {
        "id": "5KSJCKTIzxpY"
      }
    },
    {
      "cell_type": "markdown",
      "source": [
        "$$\n",
        "\\alpha_{v_3}^{v_3} = \\alpha_{v_4}^{v_4} = 1, \\quad \\alpha_{v_4}^{v_3} = \\alpha_{v_3}^{v_4} = 0.\n",
        "$$"
      ],
      "metadata": {
        "id": "pMSAQz71zy-m"
      }
    },
    {
      "cell_type": "markdown",
      "source": [
        "Escribimos:\n"
      ],
      "metadata": {
        "id": "t1t1R8mHz0aV"
      }
    },
    {
      "cell_type": "markdown",
      "source": [
        "$$\n",
        "\\alpha_{v_3}^{v_1} = P(X_0 = v_1, \\text{ la cadena es absorbida en } v_3) = P(X_0 = v_1, X_1 = v_1, \\text{ la cadena es absorbida en } v_3)\n",
        "$$"
      ],
      "metadata": {
        "id": "qQdP7QWZz2CQ"
      }
    },
    {
      "cell_type": "markdown",
      "source": [
        "$$\n",
        "+ P(X_0 = v_1, X_1 = v_2, \\text{ la cadena es absorbida en } v_3) + P(X_0 = v_1, X_1 = v_3, \\text{ la cadena es absorbida en } v_3)\n",
        "$$"
      ],
      "metadata": {
        "id": "j9OCpbhJz3F2"
      }
    },
    {
      "cell_type": "markdown",
      "source": [
        "$$\n",
        "= p_{1,1} \\alpha_{v_3}^{v_1} + p_{1,2} \\alpha_{v_3}^{v_2} + p_{1,3} \\alpha_{v_3}^{v_3}\n",
        "$$"
      ],
      "metadata": {
        "id": "bvoLVY_sz49X"
      }
    },
    {
      "cell_type": "markdown",
      "source": [
        "$$\n",
        "= \\frac{1}{4} \\alpha_{v_3}^{v_1} + \\frac{1}{4} \\alpha_{v_3}^{v_2} + \\frac{1}{2}.\n",
        "$$"
      ],
      "metadata": {
        "id": "DZmcm9vqz7P9"
      }
    },
    {
      "cell_type": "markdown",
      "source": [
        "Si hacemos lo mismo comenzando desde $v_2$, obtenemos"
      ],
      "metadata": {
        "id": "19SLUugLz821"
      }
    },
    {
      "cell_type": "markdown",
      "source": [
        "$$\n",
        "\\alpha_{v_3}^{v_2} = \\frac{1}{2} \\alpha_{v_3}^{v_1} + \\frac{1}{4} + \\frac{1}{4} \\times 0.\n",
        "$$"
      ],
      "metadata": {
        "id": "1EZO0Zo6z9rH"
      }
    },
    {
      "cell_type": "markdown",
      "source": [
        "Finalmente, tenemos el sistema lineal $2 \\times 2$:\n"
      ],
      "metadata": {
        "id": "bOByD1smz-4f"
      }
    },
    {
      "cell_type": "markdown",
      "source": [
        "$$\n",
        "\\left\\{\n",
        "\\begin{array}{l}\n",
        "\\alpha_{v_3}^{v_1} = \\frac{1}{4} \\alpha_{v_3}^{v_1} + \\frac{1}{4} \\alpha_{v_3}^{v_2} + \\frac{1}{2} \\\\\n",
        "\\alpha_{v_3}^{v_2} = \\frac{1}{2} \\alpha_{v_3}^{v_1} + \\frac{1}{4}\n",
        "\\end{array}\n",
        "\\right.\n",
        "$$"
      ],
      "metadata": {
        "id": "mSnyA8jnz_14"
      }
    },
    {
      "cell_type": "markdown",
      "source": [
        "De aquí obtenemos que:"
      ],
      "metadata": {
        "id": "4mZxtLid0Ba_"
      }
    },
    {
      "cell_type": "markdown",
      "source": [
        "$$\n",
        "\\left\\{\n",
        "\\begin{array}{l}\n",
        "\\alpha_{v_3}^{v_1} = \\frac{9}{10} \\\\\n",
        "\\alpha_{v_3}^{v_2} = \\frac{7}{10}\n",
        "\\end{array}\n",
        "\\right.\n",
        "$$"
      ],
      "metadata": {
        "id": "OVksLoTp0CkH"
      }
    },
    {
      "cell_type": "markdown",
      "source": [
        "Lo que es consistente con nuestra aproximación numérica."
      ],
      "metadata": {
        "id": "Z0PYlJyE0EeD"
      }
    },
    {
      "cell_type": "markdown",
      "source": [
        "### II.4. Bonus: La propiedad de Markov\n"
      ],
      "metadata": {
        "id": "jI6tTffu0Ytx"
      }
    },
    {
      "cell_type": "markdown",
      "source": [
        "La siguiente propiedad es fundamental para las cadenas de Markov. Nos dice que para calcular la distribución de $X_{t+1}$, es suficiente con conocer la distribución de $X_t$.\n"
      ],
      "metadata": {
        "id": "hg69cg1e0bW1"
      }
    },
    {
      "cell_type": "markdown",
      "source": [
        "#### Proposición 3 (Propiedad de Markov)."
      ],
      "metadata": {
        "id": "1ub-I_6o0cRs"
      }
    },
    {
      "cell_type": "markdown",
      "source": [
        "Sea $(X_t)_{t \\in \\mathbb{N}}$ una cadena de Markov con matriz de transición $P$. Para todo $t \\geq 1$, y para todo $t+1$-tuplo de vértices $v_{i_1}, \\dots, v_{i_{t+1}}$,\n"
      ],
      "metadata": {
        "id": "aMm7cl5F0fXQ"
      }
    },
    {
      "cell_type": "markdown",
      "source": [
        "$$\n",
        "P(X_{t+1} = v_{i_{t+1}} | X_1 = v_{i_1}, \\dots, X_t = v_{i_t}) = P(X_{t+1} = v_{i_{t+1}} | X_t = v_{i_t}) = p_{i_t, i_{t+1}}.\n",
        "$$"
      ],
      "metadata": {
        "id": "4rgM3d5u0gVN"
      }
    },
    {
      "cell_type": "markdown",
      "source": [
        "#### Prueba de la Proposición 3.\n"
      ],
      "metadata": {
        "id": "O-9vDumk0hUd"
      }
    },
    {
      "cell_type": "markdown",
      "source": [
        "Primero, calculemos el lado izquierdo de la ecuación, usando la definición de probabilidades condicionales:\n"
      ],
      "metadata": {
        "id": "IE3PLPPG0kp-"
      }
    },
    {
      "cell_type": "markdown",
      "source": [
        "$$\n",
        "P(X_{t+1} = v_{i_{t+1}} | X_1 = v_{i_1}, \\dots, X_t = v_{i_t}) = \\frac{P(X_1 = v_{i_1}, \\dots, X_t = v_{i_t}, X_{t+1} = v_{i_{t+1}})}{P(X_1 = v_{i_1}, \\dots, X_t = v_{i_t})}\n",
        "$$\n"
      ],
      "metadata": {
        "id": "2HC1n_-K0lRP"
      }
    },
    {
      "cell_type": "markdown",
      "source": [
        "$$\n",
        "= \\frac{p_{i_0, i_1} \\times p_{i_1, i_2} \\times \\dots \\times p_{i_{t-1}, i_t} \\times p_{i_t, i_{t+1}}}{p_{i_0, i_1} \\times p_{i_1, i_2} \\times \\dots \\times p_{i_{t-1}, i_t}} = p_{i_t, i_{t+1}}.\n",
        "$$"
      ],
      "metadata": {
        "id": "ylmZznwv0nRl"
      }
    },
    {
      "cell_type": "markdown",
      "source": [
        "Ahora calculemos el lado derecho de la ecuación, usando la ley de probabilidades totales:\n"
      ],
      "metadata": {
        "id": "pCPB6CfB0pUl"
      }
    },
    {
      "cell_type": "markdown",
      "source": [
        "$$\n",
        "P(X_{t+1} = v_{i_{t+1}} | X_t = v_{i_t}) = \\frac{P(X_t = v_{i_t}, X_{t+1} = v_{i_{t+1}})}{P(X_t = v_{i_t})}.\n",
        "$$"
      ],
      "metadata": {
        "id": "l2ziR9RS0qgf"
      }
    },
    {
      "cell_type": "markdown",
      "source": [
        "$$\n",
        "= \\sum_{i_0, \\dots, i_{t-1} \\in V} P(X_1 = v_{i_1}, \\dots, X_t = v_{i_t}, X_{t+1} = v_{i_{t+1}}) = \\sum_{i_0, \\dots, i_{t-1} \\in V} p_{i_0, i_1} \\times p_{i_1, i_2} \\times \\dots \\times p_{i_{t-1}, i_t} \\times p_{i_t, i_{t+1}}.\n",
        "$$"
      ],
      "metadata": {
        "id": "mB2tMff_0sfc"
      }
    },
    {
      "cell_type": "markdown",
      "source": [
        "$$\n",
        "= \\sum_{i_0, \\dots, i_{t-1} \\in V} p_{i_0, i_1} \\times p_{i_1, i_2} \\times \\dots \\times p_{i_{t-1}, i_t} = p_{i_t, i_{t+1}}.\n",
        "$$"
      ],
      "metadata": {
        "id": "UZiLAhvq0tu1"
      }
    },
    {
      "cell_type": "markdown",
      "source": [
        "Fin de la prueba de la Proposición 3."
      ],
      "metadata": {
        "id": "SbXFp-bt0vhp"
      }
    }
  ]
}